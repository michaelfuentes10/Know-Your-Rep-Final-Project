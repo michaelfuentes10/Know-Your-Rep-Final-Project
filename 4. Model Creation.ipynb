{
 "cells": [
  {
   "cell_type": "markdown",
   "id": "4fb7e348-a043-4a7a-a805-6ec0baef44af",
   "metadata": {},
   "source": [
    "# **Model Creation**\n",
    "\n"
   ]
  },
  {
   "cell_type": "markdown",
   "id": "393ff135-bf66-4841-bdfd-de5b8030a05f",
   "metadata": {},
   "source": [
    "In creating this model, I will use on a prompting style based around GPT 4.o, focusing on it's functional capabilities to search for house representatives by Zip code and address, and generally being an educator on the house of representatives system in general."
   ]
  },
  {
   "cell_type": "code",
   "execution_count": null,
   "id": "bc4fefbb-06b4-4ee7-8bb0-1bc9d6eab600",
   "metadata": {},
   "outputs": [],
   "source": []
  }
 ],
 "metadata": {
  "kernelspec": {
   "display_name": "Python 3-12 (COMM4190)",
   "language": "python",
   "name": "python3-12_comm4190"
  },
  "language_info": {
   "codemirror_mode": {
    "name": "ipython",
    "version": 3
   },
   "file_extension": ".py",
   "mimetype": "text/x-python",
   "name": "python",
   "nbconvert_exporter": "python",
   "pygments_lexer": "ipython3",
   "version": "3.12.8"
  }
 },
 "nbformat": 4,
 "nbformat_minor": 5
}
