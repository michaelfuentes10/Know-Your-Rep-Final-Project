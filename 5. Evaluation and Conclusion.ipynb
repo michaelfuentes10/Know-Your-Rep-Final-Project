{
 "cells": [
  {
   "cell_type": "markdown",
   "id": "1d9c2dcb-8e01-47b3-9c6a-8aa195ea02f5",
   "metadata": {},
   "source": [
    "# **Evaluation of Model**"
   ]
  },
  {
   "cell_type": "markdown",
   "id": "a2654f08-1488-454a-bd66-31e62706953a",
   "metadata": {},
   "source": [
    "My model successfully grants information to various types of users, ranging from low knowledge on the house of representatives system to those wanting a more in-depth information on their "
   ]
  },
  {
   "cell_type": "code",
   "execution_count": null,
   "id": "1295baef-d75c-4a4d-a1dc-16bb0d43deb7",
   "metadata": {},
   "outputs": [],
   "source": []
  }
 ],
 "metadata": {
  "kernelspec": {
   "display_name": "Python 3-12 (COMM4190)",
   "language": "python",
   "name": "python3-12_comm4190"
  },
  "language_info": {
   "codemirror_mode": {
    "name": "ipython",
    "version": 3
   },
   "file_extension": ".py",
   "mimetype": "text/x-python",
   "name": "python",
   "nbconvert_exporter": "python",
   "pygments_lexer": "ipython3",
   "version": "3.12.8"
  }
 },
 "nbformat": 4,
 "nbformat_minor": 5
}
