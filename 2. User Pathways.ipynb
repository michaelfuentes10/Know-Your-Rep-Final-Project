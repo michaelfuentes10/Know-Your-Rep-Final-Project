{
 "cells": [
  {
   "cell_type": "markdown",
   "id": "0a0075ad-864b-4b25-ba9f-a659fef942a1",
   "metadata": {},
   "source": [
    "# **Developing Prompts Based on Inputs of knowledge**\n",
    "\n",
    "As mentioned, I have three primary directions that users can fluidly jump between in their interactions with this LLM application. To do this, I'll need to specify questions that'll prompt the LLM to follow each pathway."
   ]
  },
  {
   "cell_type": "markdown",
   "id": "35e976b2-238d-4c09-a78b-92fd562687ac",
   "metadata": {},
   "source": [
    "### **Pre-Pathway**\n",
    "\n",
    "Before defining questions to ask my LLM, I'd like to prompt the LLM on what it is and what is it's purpose. This will be hopefully a more prompt section before the pathway defining questions\n",
    "\n",
    "### USER\n",
    "\n",
    "You are an AI guide for users on a website, serving as a librarian of information on house representatives. You are capable of answering (a) general questions on the  what and why of house representatives in the U.S., (b) the where and who of U.S. house representatives by telling who a person's house representative is by Zipcode, and (c ) giving more in-depth information on the political beliefs of said house representatives of users based on on legislative activity, including bills, resolutions, roll calls, and committee memberships. You will not answer any off-topic questions (i.e., how to make bread) or any questions not involving house representatives. For now, your functionality will not go into senate representatives as well. Do you have any questions regarding your functionality?\n",
    "\n",
    "### GPT 4.o RESPONSE\n",
    "\n",
    "No questions from me—I understand my functionality clearly. To confirm:\n",
    "\n",
    "1. **General Education** – I can answer *what* the U.S. House of Representatives is, *why* it exists, and *how* it operates.\n",
    "2. **Representative Lookup** – I can identify a user's House Representative *based on their ZIP code*.\n",
    "3. **Representative Profile** – I can provide detailed, *up-to-date* insights into a Representative’s political stance through analysis of their **legislative activity**: bills sponsored/co-sponsored, voting record, and committee memberships.\n",
    "4. **Limitations** – I do **not** cover topics unrelated to House Representatives and will not provide information on U.S. Senators or general non-political queries.\n",
    "\n",
    "I'm ready to begin when you are. Would you like to test the ZIP code lookup or explore general information first?"
   ]
  },
  {
   "cell_type": "markdown",
   "id": "9d659b40-d2d0-4261-a810-f20232254c34",
   "metadata": {},
   "source": [
    "Now, with a taste of understanding of how this GPT 4.o will follow pathways, here is an overview of the interactions of pathways, and \"Know Your Reps\" knowledge bases to complete the task given:"
   ]
  },
  {
   "cell_type": "markdown",
   "id": "e9e681b1-a6aa-4247-aae3-d2c084207e17",
   "metadata": {},
   "source": [
    "### Note: Tool 1 = Google Civic API, Tool 2 = GovTrack data\n",
    "### Note: Agent = Chat GPT 4.o"
   ]
  },
  {
   "cell_type": "code",
   "execution_count": 1,
   "id": "c2ed1cda-b105-4aab-b42b-e53dc9ebf8d5",
   "metadata": {},
   "outputs": [],
   "source": [
    "import sys\n",
    "import base64\n",
    "import zlib\n",
    "from IPython.display import Image,display,SVG"
   ]
  },
  {
   "cell_type": "code",
   "execution_count": 2,
   "id": "ceb427c9-6237-409a-a9ac-9c3b216772d3",
   "metadata": {},
   "outputs": [],
   "source": [
    "def mm(diagram):\n",
    "    encoded_diagram = base64.urlsafe_b64encode(zlib.compress(diagram.encode('utf-8'), 9)).decode('ascii')\n",
    "    dia_url = f'https://kroki.io/mermaid/svg/{encoded_diagram}'\n",
    "    display(Image(url=dia_url))"
   ]
  },
  {
   "cell_type": "code",
   "execution_count": 4,
   "id": "c36b8ed2-1be4-42db-bbc4-3d4b2a142aa6",
   "metadata": {},
   "outputs": [
    {
     "data": {
      "text/html": [
       "<img src=\"https://kroki.io/mermaid/svg/eNp1kcFOw0AMRO_9irlRpCaHHntoVYlDPwDE2WxMsiK7DmunUv8eJ6AgqrA3y543Y-9G-XPkHPgpUlsobeDvRblUx-O55WwHvHZkiArCRUZlFB4Kq7fI4pVPs2IerVwzSQ84o1sZdUhd1_85NMKKdFtXNoJ3KUj3ds8i_f4HQMGiZJ1mF4ZioGL04d75hK2Ow9BzcjFMQBPlQb1lY5y0jzN8Zla_6S5rMFzFYm538EU8n2QESSmaMesOlBtobDPeYt97rWPoQMv2d9daO6tiNkqUb8tiHvnbLXhl0fzf7C_8CzjtnOw=\"/>"
      ],
      "text/plain": [
       "<IPython.core.display.Image object>"
      ]
     },
     "metadata": {},
     "output_type": "display_data"
    }
   ],
   "source": [
    "## dia1 is user scenario 1: House of Representatives Beginner (see 1_Overview.ipynb)\n",
    "\n",
    "dia1 = '''\n",
    "sequenceDiagram\n",
    "    User->>Agent: What is a House representative?\n",
    "    Agent-->>User: A house representative is...\n",
    "    User->>Agent: What does my house representative do for me?\n",
    "    Agent-->>Tool2: What actions do house reps partake in? (supplement to agent's intuition)\n",
    "    Tool2-->>Agent: House reps partake in voting, serve on committees, and sign bills, such as...\n",
    "    Agent-->>User: House representatives take many actions to serve constituents, such as...\n",
    "'''\n",
    "mm(dia1)"
   ]
  },
  {
   "cell_type": "code",
   "execution_count": 6,
   "id": "dd3624eb-a091-4c94-b891-e88447f36842",
   "metadata": {},
   "outputs": [
    {
     "data": {
      "text/html": [
       "<img src=\"https://kroki.io/mermaid/svg/eNp9kjFPwzAQhff8ihtBIpVYO6RCgFQYUIFWqCAGN740lhxfsJ1W-fecnZDSlBJ5if3u3bvPThx-NWhyvFNia0WVAH8rhzbNspstGj-Ft5JAOahamFPjECzWFh0fCa92OIsVUZqmWaicwkKjYGFtaackQoWwV76ElhoL76rOiTc9ATe2bbfbOb8cOU_-yDJHi32YH6MLZVjih_-SJZdXsB9Sl9Gbin-CZ9mSSF9P4TlG2rD7wwKCXRTFw_SQIhyWgs0b7VWtEaRy3qrcuyMYPY1lyTnOl0zgVphAAbgKbcejaLQGFiB6EFJybDfrjHiR0S3wTBIKsj3FurE1OXQgjGTaXG3IwwbZhCzKSRKTCe0jUHCidbDGLu8p5o_7EMV1Mfr-n4P2HLPf6kE8Zsd3PIFHKg28VvwoRqYDtHWgcHxhYfRRIWq-2cNAT3TObmXERsdHJ5Enq5RhMjXmqlD5uE14q9T403HQyOQbycMN3Q==\"/>"
      ],
      "text/plain": [
       "<IPython.core.display.Image object>"
      ]
     },
     "metadata": {},
     "output_type": "display_data"
    }
   ],
   "source": [
    "## dia2 is user scenario 2: House of Representatives Explorer (see 1_Overview.ipynb)\n",
    "\n",
    "dia2 = '''\n",
    "sequenceDiagram\n",
    "    User->>Agent: Who is my House representative?\n",
    "    Agent-->User: Please provide me with your Zipcode to query your House Representative.\n",
    "    User->>Agent: Here is my Zipcode (insert Zipcode here), who is my house of representative?\n",
    "    Agent->>Tool1: Query by ZIP code\n",
    "    Tool1-->>Agent: ZIP has multiple districts\n",
    "    Agent-->>User: This ZIP has multiple districts. Can you enter your full street address? This is only used for query purposes and will not be stored.\n",
    "\n",
    "    alt User says Yes\n",
    "        User->>Agent: [Enters full address]\n",
    "        Agent->>Tool1: Query by full address\n",
    "        Tool1-->>Agent: Rep. John Smith\n",
    "        Agent-->>User: Your representative is John Smith\n",
    "    else User says No\n",
    "        Agent-->>User: Unable to determine specific representative without full address\n",
    "    end\n",
    "'''\n",
    "mm(dia2)"
   ]
  },
  {
   "cell_type": "code",
   "execution_count": 8,
   "id": "7c0874cb-4205-4651-b051-a4c0836d6d43",
   "metadata": {},
   "outputs": [
    {
     "data": {
      "text/html": [
       "<img src=\"https://kroki.io/mermaid/svg/eNqNk8tum0AUhvc8xf8ADpLdpq28iFU1izSLKE0TWWnVxRhOYKRhjjsXu7x9D4NjCLWlskIw_-V8HDJPvyPZgq61qpxqMsj15MldXF19rsiGJdY1Q3s0LW44eoKjrSMvr1TQO1olRToqkkdmM1_iWyTXTg5i0-LH13sUXFLSpLMXQ073slYSFE3QW0MotQ9OF8Fnoww539Vb4rGWUuc1OdYcTYmWIzaEvTZG2wqBIS7kuucOL9EYiIAoQJWltPV4YQeFhh1BFUV0KnQjewlY9T2UCYkQvGo9nsmnp_9y-3nveKdL8qdifh1F_4kueRzER-0U4QNtc9xybfG90aGe4fqAA_PFJPDI8bkDMckTsoNLIjIyyrMzA69rFbAR0D59k1Smd_Bbtl6IlquTYy9ex_7CtuoGzCvepdje7SjvQAy2bzAsRhhu8od8vnj3fpbuLj98_DQDhSI_h2DUtCs-xIWapIYxvO92J5U55Z7nvTUZ-T2G1bjjc4FPVoYL0cpumXaGPaFQ1nJASbKbjbbU7yf9UYJ88nH20pNjGG3wYS0OJWyZ_QUUQDuN\"/>"
      ],
      "text/plain": [
       "<IPython.core.display.Image object>"
      ]
     },
     "metadata": {},
     "output_type": "display_data"
    }
   ],
   "source": [
    "## dia3 is user scenario 3: House of Representatives Learner (see 1_Overview.ipynb)\n",
    "\n",
    "dia3 = '''\n",
    "sequenceDiagram\n",
    "    User->>Agent: Who is my House representative?\n",
    "    Agent->>Tool1: Query representative by ZIP code\n",
    "    Tool1-->>Agent: ZIP has multiple districts\n",
    "\n",
    "    Agent-->>User: This ZIP has multiple districts. Would you be willing to enter your full street address for a more accurate result?\n",
    "\n",
    "    alt User says Yes\n",
    "        User->>Agent: [Provides full street address]\n",
    "        Agent->>Tool1: Query representative by full address\n",
    "        Tool1-->>Agent: Rep. John Smith, District 12\n",
    "        Agent-->>User: Your representative is John Smith for District 12.\n",
    "\n",
    "        User->>Agent: What bills has Rep. Smith sponsored?\n",
    "        Agent->>Tool2: Query GovTrack for bills sponsored by Rep. Smith\n",
    "        Tool2-->>Agent: H.R.1234, H.R.5678, etc.\n",
    "        Agent-->>User: Rep. Smith has sponsored the following bills: H.R.1234, H.R.5678...\n",
    "    else User says No\n",
    "        Agent-->>User: Unfortunately, we cannot determine your exact representative without your full address.\n",
    "    end\n",
    "'''\n",
    "mm(dia3)"
   ]
  },
  {
   "cell_type": "code",
   "execution_count": 18,
   "id": "4cc0c509-356a-4e22-8234-05be53bc6585",
   "metadata": {},
   "outputs": [
    {
     "data": {
      "text/html": [
       "<img src=\"https://kroki.io/mermaid/svg/eNqNk01TAjEMhu_8ivwA4OCRg46fgwcPfg3nUALbsdvUpkXXX29aFFhndeSybJO8ed5sOhJ6zeQNXVncRGxHoL9noTg5PT3fkE8zuOug4SwEkQJYgas3u2kSXG_RyxQWDSaNGE0FRxsrDpPdEqDRh01aiwINQcCY8IU8WH9Wm1R17fLE7E5mcJ8pdsMKvO71rNW1anKAvPXKvAdZWucEUkGrJRVCAnvhSCvgCIb3r0c0qle8z3r9avFO2HVHKkld4dLUZoB-d_DefdSDKVxwar5AMJLa1p5ta1MiGhhyHeM-QWDF1J80mBzjF4JNwH9Nca8DgTXZKvG_hrjATqqTOyodL79lxvCYlwdR9jAndKkZ1-SfsQXHF4o1dIOtVeDHHALHNDToBwrTvk893qp3FSrz_B2pRP_CGor_jjbwSeb8BgY93ILktsVoPwga3f_ATmdq0IFdaT-BJUpZqgJs5WzI5cV3Rqk_3vE1m7zzd-CM7EjG_aFQG3QLlUD_GvbcWgNcybPXKzLWG1acg17m-loU19XhpOwtlX0t3KYbfQLBOV8I\"/>"
      ],
      "text/plain": [
       "<IPython.core.display.Image object>"
      ]
     },
     "metadata": {},
     "output_type": "display_data"
    }
   ],
   "source": [
    "## dia4 is user scenario 4: House of Representatives Discusser (see 1_Overview.ipynb)\n",
    "dia4 = '''\n",
    "sequenceDiagram\n",
    "    User->>Agent: My house rep is Dwight Evans. What recent legislative activity has he partaken in?\n",
    "    Agent->>Tool2: Query legislative activity of Dwight Evans\n",
    "    Tool2-->>Agent: Insert recent bills that Evans has sponsored or cosponsored\n",
    "    Agent-->>User: Dwight Evans has recently sponsored the abc bill and the xyz bill. Both bills are in committee\n",
    "    User->>Agent: What committees does Dwight Evans currently sit on?\n",
    "    Agent->>Tool2: Query committee positions of Dwight Evans\n",
    "    Tool2-->>Agent: Ways and Means Committee, Subcommittee on Health, and Subcommittee on Worker and Family Support\n",
    "    Agent-->>User: Rep. Dwight Evans serves on the Ways and Means Committee, the Subcommittee on Health, and the Subcommittee on Worker and Family Support\n",
    "\n",
    "    User->>Agent: How can I summarize his political ideals based on this?\n",
    "    Agent-->>User: Based on his legislative focus and committee roles, Dwight Evans emphasizes economic opportunity, health equity, and family-centered policy\n",
    "'''\n",
    "mm(dia4)"
   ]
  }
 ],
 "metadata": {
  "citation-manager": {
   "items": {}
  },
  "kernelspec": {
   "display_name": "Python 3-12 (COMM4190)",
   "language": "python",
   "name": "python3-12_comm4190"
  },
  "language_info": {
   "codemirror_mode": {
    "name": "ipython",
    "version": 3
   },
   "file_extension": ".py",
   "mimetype": "text/x-python",
   "name": "python",
   "nbconvert_exporter": "python",
   "pygments_lexer": "ipython3",
   "version": "3.12.8"
  }
 },
 "nbformat": 4,
 "nbformat_minor": 5
}
