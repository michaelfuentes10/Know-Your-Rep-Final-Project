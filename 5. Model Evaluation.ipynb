{
 "cells": [
  {
   "cell_type": "markdown",
   "id": "1d9c2dcb-8e01-47b3-9c6a-8aa195ea02f5",
   "metadata": {},
   "source": [
    "# **Evaluation of Model**"
   ]
  },
  {
   "cell_type": "markdown",
   "id": "a2654f08-1488-454a-bd66-31e62706953a",
   "metadata": {},
   "source": [
    "My model successfully grants information to various types of users, ranging from low knowledge on the house of representatives system to those wanting a more in-depth information on their specific house of representatives. Following the five drafts of the prompt I had in section 4, they followed continuous and interpretative prompting pretty well. I've definitely learned the important of specific prompting with models such as this one where interpretation is more important than quantitative understanding, but acknowledge that more could have been done with this model. With that, here's an assortment of the pros and cons of my model at it's current state."
   ]
  },
  {
   "cell_type": "markdown",
   "id": "42946f36-0843-48f7-9da1-2418e49f622c",
   "metadata": {},
   "source": [
    "**Pros of Model:**\n",
    "1. Capability to follow directions across multiple types of users.\n",
    "2. Strong read on tracking ongoing prompting to keep user engaged and on-topic.\n",
    "3. Able to accurately track house representatives by Zip code and even address when possible.\n",
    "4. Very consistent summarizations of house representatives in a succinct manner.\n",
    "5. Offers a space for people curious enough to learn about what exactly house representatives do.\n",
    "\n",
    "**Cons of Model:**\n",
    "1. Inability to go in-depth on timely matters, such as on recent bills that house representatives have sponsored or cosponsored.\n",
    "2. Boundaries of \"house of representatives\" topics are sometimes blurry, leading me to have to state the name of the representative to gather information from them in scenarios 2 and 3.\n",
    "3. Takes a lot of prompting to follow different pathways over time.\n",
    "4. Summarizations of house representative's political beliefs; impartial but not becoming of meaningful commentary."
   ]
  },
  {
   "cell_type": "markdown",
   "id": "1bbea201-e19a-4a7f-9e3e-b80da5cae65a",
   "metadata": {},
   "source": [
    "# **Things to Improve this Model**"
   ]
  },
  {
   "cell_type": "markdown",
   "id": "8ece4ca5-fe6b-49f4-a94f-e62eacd118ee",
   "metadata": {},
   "source": [
    "1. To help this model track Zipcodes more naturally without relying on GPT 4.o's training, I could have implemented an API, such as Google Civic Information API to funnel into GPT 4.o via calls as a tool in this model.\n",
    "2. To help this model keep track of more meaningful information on sponsored bills, votes, and committee and local activity of house representatives, I could have implemented a government API, such as Congress.gov or GovTrack API. This would allow for more meaningful, less generic summaries about house representatives for user scenario 4.\n",
    "3. Potentially more succinct, less directive prompting may allow for the summarizations of \"Know Your Rep\" would allow it to be less generic in it's political summarizations, as this application is supposed to work twofold in (1) granting information on house representatives, and (2) discussing information on house representatives."
   ]
  }
 ],
 "metadata": {
  "kernelspec": {
   "display_name": "Python 3-12 (COMM4190)",
   "language": "python",
   "name": "python3-12_comm4190"
  },
  "language_info": {
   "codemirror_mode": {
    "name": "ipython",
    "version": 3
   },
   "file_extension": ".py",
   "mimetype": "text/x-python",
   "name": "python",
   "nbconvert_exporter": "python",
   "pygments_lexer": "ipython3",
   "version": "3.12.8"
  }
 },
 "nbformat": 4,
 "nbformat_minor": 5
}
